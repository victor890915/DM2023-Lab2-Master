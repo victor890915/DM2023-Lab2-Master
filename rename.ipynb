{
 "cells": [
  {
   "cell_type": "code",
   "execution_count": 2,
   "metadata": {},
   "outputs": [
    {
     "name": "stdout",
     "output_type": "stream",
     "text": [
      "   tweet_id  emotion\n",
      "0  0x28cc61      joy\n",
      "1  0x2db41f      joy\n",
      "2  0x2466f6  disgust\n",
      "3  0x23f9e9  sadness\n",
      "4  0x1fb4e1      joy\n"
     ]
    }
   ],
   "source": [
    "import pandas as pd\n",
    "\n",
    "data = pd.read_csv(\"submission_bert.csv\")\n",
    "\n",
    "print (data.head())\n"
   ]
  },
  {
   "cell_type": "code",
   "execution_count": 5,
   "metadata": {},
   "outputs": [
    {
     "name": "stdout",
     "output_type": "stream",
     "text": [
      "         id  emotion\n",
      "0  0x28cc61      joy\n",
      "1  0x2db41f      joy\n",
      "2  0x2466f6  disgust\n",
      "3  0x23f9e9  sadness\n",
      "4  0x1fb4e1      joy\n"
     ]
    }
   ],
   "source": [
    "\n",
    "data.rename(columns={\"tweet_id\": \"id\",\"emotion\": \"emotion\"},inplace= True)\n",
    "print(data.head())\n"
   ]
  },
  {
   "cell_type": "code",
   "execution_count": 7,
   "metadata": {},
   "outputs": [],
   "source": [
    "data.to_csv(\"submission_distilbert.csv\",index= False)"
   ]
  }
 ],
 "metadata": {
  "kernelspec": {
   "display_name": "DM-2023-p310",
   "language": "python",
   "name": "python3"
  },
  "language_info": {
   "codemirror_mode": {
    "name": "ipython",
    "version": 3
   },
   "file_extension": ".py",
   "mimetype": "text/x-python",
   "name": "python",
   "nbconvert_exporter": "python",
   "pygments_lexer": "ipython3",
   "version": "3.10.13"
  }
 },
 "nbformat": 4,
 "nbformat_minor": 2
}
